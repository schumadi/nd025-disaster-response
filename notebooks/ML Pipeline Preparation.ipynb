{
 "cells": [
  {
   "cell_type": "markdown",
   "metadata": {},
   "source": [
    "'''[![Open in Studio Lab](https://studiolab.sagemaker.aws/studiolab.svg)]\n",
    "(https://studiolab.sagemaker.aws/import/github/schumadi/nd025-disaster-response/blob/master/notebooks/ML Pipeline Preparation.ipynb)'''"
   ]
  },
  {
   "cell_type": "markdown",
   "metadata": {},
   "source": [
    "# ML Pipeline Preparation\n",
    "Follow the instructions below to help you create your ML pipeline.\n",
    "### 1. Import libraries and load data from database.\n",
    "- Import Python libraries\n",
    "- Load dataset from database with [`read_sql_table`](https://pandas.pydata.org/pandas-docs/stable/generated/pandas.read_sql_table.html)\n",
    "- Define feature and target variables X and Y"
   ]
  },
  {
   "cell_type": "code",
   "execution_count": 1,
   "metadata": {},
   "outputs": [
    {
     "name": "stderr",
     "output_type": "stream",
     "text": [
      "[nltk_data] Downloading collection 'popular'\n",
      "[nltk_data]    | \n",
      "[nltk_data]    | Downloading package cmudict to\n",
      "[nltk_data]    |     /Users/dirk/nltk_data...\n",
      "[nltk_data]    |   Package cmudict is already up-to-date!\n",
      "[nltk_data]    | Downloading package gazetteers to\n",
      "[nltk_data]    |     /Users/dirk/nltk_data...\n",
      "[nltk_data]    |   Package gazetteers is already up-to-date!\n",
      "[nltk_data]    | Downloading package genesis to\n",
      "[nltk_data]    |     /Users/dirk/nltk_data...\n",
      "[nltk_data]    |   Package genesis is already up-to-date!\n",
      "[nltk_data]    | Downloading package gutenberg to\n",
      "[nltk_data]    |     /Users/dirk/nltk_data...\n",
      "[nltk_data]    |   Package gutenberg is already up-to-date!\n",
      "[nltk_data]    | Downloading package inaugural to\n",
      "[nltk_data]    |     /Users/dirk/nltk_data...\n",
      "[nltk_data]    |   Package inaugural is already up-to-date!\n",
      "[nltk_data]    | Downloading package movie_reviews to\n",
      "[nltk_data]    |     /Users/dirk/nltk_data...\n",
      "[nltk_data]    |   Package movie_reviews is already up-to-date!\n",
      "[nltk_data]    | Downloading package names to /Users/dirk/nltk_data...\n",
      "[nltk_data]    |   Package names is already up-to-date!\n",
      "[nltk_data]    | Downloading package shakespeare to\n",
      "[nltk_data]    |     /Users/dirk/nltk_data...\n",
      "[nltk_data]    |   Package shakespeare is already up-to-date!\n",
      "[nltk_data]    | Downloading package stopwords to\n",
      "[nltk_data]    |     /Users/dirk/nltk_data...\n",
      "[nltk_data]    |   Package stopwords is already up-to-date!\n",
      "[nltk_data]    | Downloading package treebank to\n",
      "[nltk_data]    |     /Users/dirk/nltk_data...\n",
      "[nltk_data]    |   Package treebank is already up-to-date!\n",
      "[nltk_data]    | Downloading package twitter_samples to\n",
      "[nltk_data]    |     /Users/dirk/nltk_data...\n",
      "[nltk_data]    |   Package twitter_samples is already up-to-date!\n",
      "[nltk_data]    | Downloading package omw to /Users/dirk/nltk_data...\n",
      "[nltk_data]    |   Package omw is already up-to-date!\n",
      "[nltk_data]    | Downloading package omw-1.4 to\n",
      "[nltk_data]    |     /Users/dirk/nltk_data...\n",
      "[nltk_data]    |   Package omw-1.4 is already up-to-date!\n",
      "[nltk_data]    | Downloading package wordnet to\n",
      "[nltk_data]    |     /Users/dirk/nltk_data...\n",
      "[nltk_data]    |   Package wordnet is already up-to-date!\n",
      "[nltk_data]    | Downloading package wordnet2021 to\n",
      "[nltk_data]    |     /Users/dirk/nltk_data...\n",
      "[nltk_data]    |   Package wordnet2021 is already up-to-date!\n",
      "[nltk_data]    | Downloading package wordnet31 to\n",
      "[nltk_data]    |     /Users/dirk/nltk_data...\n",
      "[nltk_data]    |   Package wordnet31 is already up-to-date!\n",
      "[nltk_data]    | Downloading package wordnet_ic to\n",
      "[nltk_data]    |     /Users/dirk/nltk_data...\n",
      "[nltk_data]    |   Package wordnet_ic is already up-to-date!\n",
      "[nltk_data]    | Downloading package words to /Users/dirk/nltk_data...\n",
      "[nltk_data]    |   Package words is already up-to-date!\n",
      "[nltk_data]    | Downloading package maxent_ne_chunker to\n",
      "[nltk_data]    |     /Users/dirk/nltk_data...\n",
      "[nltk_data]    |   Package maxent_ne_chunker is already up-to-date!\n",
      "[nltk_data]    | Downloading package punkt to /Users/dirk/nltk_data...\n",
      "[nltk_data]    |   Package punkt is already up-to-date!\n",
      "[nltk_data]    | Downloading package snowball_data to\n",
      "[nltk_data]    |     /Users/dirk/nltk_data...\n",
      "[nltk_data]    |   Package snowball_data is already up-to-date!\n",
      "[nltk_data]    | Downloading package averaged_perceptron_tagger to\n",
      "[nltk_data]    |     /Users/dirk/nltk_data...\n",
      "[nltk_data]    |   Package averaged_perceptron_tagger is already up-\n",
      "[nltk_data]    |       to-date!\n",
      "[nltk_data]    | \n",
      "[nltk_data]  Done downloading collection popular\n",
      "[nltk_data] Downloading package stopwords to /Users/dirk/nltk_data...\n",
      "[nltk_data]   Package stopwords is already up-to-date!\n"
     ]
    }
   ],
   "source": [
    "# import libraries\n",
    "import warnings\n",
    "warnings.filterwarnings('ignore')  # \"error\", \"ignore\", \"always\", \"default\", \"module\" or \"once\"\n",
    "\n",
    "import pandas as pd\n",
    "import numpy as np\n",
    "import re\n",
    "import pickle\n",
    "\n",
    "from scipy import stats\n",
    "\n",
    "import optuna\n",
    "from optuna.integration import OptunaSearchCV\n",
    "from optuna.distributions import IntUniformDistribution, CategoricalDistribution\n",
    "\n",
    "from sqlalchemy import create_engine\n",
    "\n",
    "from nltk.stem import WordNetLemmatizer, PorterStemmer\n",
    "from nltk.tokenize import word_tokenize\n",
    "from nltk.corpus import stopwords\n",
    "import nltk;nltk.download('popular');nltk.download('stopwords')\n",
    "\n",
    "from sklearn.multioutput import MultiOutputClassifier\n",
    "from sklearn.tree import DecisionTreeClassifier\n",
    "\n",
    "from xgboost import XGBClassifier\n",
    "from lightgbm import LGBMClassifier, Dataset\n",
    "\n",
    "from sklearn.pipeline import Pipeline\n",
    "from sklearn.feature_extraction.text import CountVectorizer, TfidfTransformer\n",
    "\n",
    "from sklearn.model_selection import train_test_split\n",
    "from sklearn.model_selection import RepeatedKFold, StratifiedKFold\n",
    "from sklearn.model_selection import GridSearchCV, RandomizedSearchCV\n",
    "\n",
    "\n",
    "from sklearn.metrics import precision_recall_fscore_support"
   ]
  },
  {
   "cell_type": "code",
   "execution_count": 2,
   "metadata": {},
   "outputs": [],
   "source": [
    "# load data from database\n",
    "engine = create_engine('sqlite:///../data/disaster.db')\n",
    "df = pd.read_sql_table('Messages', engine)\n",
    "\n",
    "X = df['message']\n",
    "y = df.drop(columns=['message'])"
   ]
  },
  {
   "cell_type": "markdown",
   "metadata": {},
   "source": [
    "### 2. Write a tokenization function to process your text data"
   ]
  },
  {
   "cell_type": "code",
   "execution_count": 3,
   "metadata": {},
   "outputs": [],
   "source": [
    "def tokenize(text):\n",
    "    \"\"\"_summary_\n",
    "\n",
    "    Args:\n",
    "        text (_type_): _description_\n",
    "\n",
    "    Returns:\n",
    "        _type_: _description_\n",
    "    \"\"\"\n",
    "    # prep nltk transformation objects\n",
    "    stop_words = stopwords.words(\"english\")\n",
    "    lemmatizer = WordNetLemmatizer()\n",
    "    \n",
    "    # normalize case and remove punctuation\n",
    "    text = re.sub(r\"[^a-zA-Z0-9]\", \" \", text.lower())\n",
    "    \n",
    "    url_regex = 'http[s]?://(?:[a-zA-Z]|[0-9]|[$-_@.&+]|[!*\\(\\),]|(?:%[0-9a-fA-F][0-9a-fA-F]))+'\n",
    "    detected_urls = re.findall(url_regex, text)\n",
    "    for url in detected_urls:\n",
    "        text = text.replace(url, \"URL\")\n",
    "\n",
    "    # tokenize text\n",
    "    tokens = word_tokenize(text)\n",
    "    \n",
    "    # lemmatize and remove stop words\n",
    "    lemmed = [lemmatizer.lemmatize(word) for word in tokens if word not in stop_words]\n",
    "\n",
    "\n",
    "    return lemmed "
   ]
  },
  {
   "cell_type": "markdown",
   "metadata": {},
   "source": [
    "### 3. Build a machine learning pipeline\n",
    "This machine pipeline should take in the `message` column as input and output classification results on the other 36 categories in the dataset. You may find the [MultiOutputClassifier](http://scikit-learn.org/stable/modules/generated/sklearn.multioutput.MultiOutputClassifier.html) helpful for predicting multiple target variables."
   ]
  },
  {
   "cell_type": "code",
   "execution_count": 4,
   "metadata": {},
   "outputs": [],
   "source": [
    "pipeline = Pipeline([\n",
    "                        ('vect', CountVectorizer(tokenizer = tokenize)),\n",
    "                        ('tfidf', TfidfTransformer()),\n",
    "                        ('clf', MultiOutputClassifier(DecisionTreeClassifier(random_state=42, max_depth=7, min_samples_split=5)))\n",
    "                    ])\n",
    "\n"
   ]
  },
  {
   "cell_type": "markdown",
   "metadata": {},
   "source": [
    "### 4. Train pipeline\n",
    "- Split data into train and test sets\n",
    "- Train pipeline"
   ]
  },
  {
   "cell_type": "code",
   "execution_count": 4,
   "metadata": {},
   "outputs": [],
   "source": [
    "X_train, X_test, y_train, y_test = train_test_split(X, y, test_size=0.2, random_state=42)"
   ]
  },
  {
   "cell_type": "code",
   "execution_count": 6,
   "metadata": {},
   "outputs": [
    {
     "data": {
      "text/html": [
       "<style>#sk-container-id-1 {color: black;background-color: white;}#sk-container-id-1 pre{padding: 0;}#sk-container-id-1 div.sk-toggleable {background-color: white;}#sk-container-id-1 label.sk-toggleable__label {cursor: pointer;display: block;width: 100%;margin-bottom: 0;padding: 0.3em;box-sizing: border-box;text-align: center;}#sk-container-id-1 label.sk-toggleable__label-arrow:before {content: \"▸\";float: left;margin-right: 0.25em;color: #696969;}#sk-container-id-1 label.sk-toggleable__label-arrow:hover:before {color: black;}#sk-container-id-1 div.sk-estimator:hover label.sk-toggleable__label-arrow:before {color: black;}#sk-container-id-1 div.sk-toggleable__content {max-height: 0;max-width: 0;overflow: hidden;text-align: left;background-color: #f0f8ff;}#sk-container-id-1 div.sk-toggleable__content pre {margin: 0.2em;color: black;border-radius: 0.25em;background-color: #f0f8ff;}#sk-container-id-1 input.sk-toggleable__control:checked~div.sk-toggleable__content {max-height: 200px;max-width: 100%;overflow: auto;}#sk-container-id-1 input.sk-toggleable__control:checked~label.sk-toggleable__label-arrow:before {content: \"▾\";}#sk-container-id-1 div.sk-estimator input.sk-toggleable__control:checked~label.sk-toggleable__label {background-color: #d4ebff;}#sk-container-id-1 div.sk-label input.sk-toggleable__control:checked~label.sk-toggleable__label {background-color: #d4ebff;}#sk-container-id-1 input.sk-hidden--visually {border: 0;clip: rect(1px 1px 1px 1px);clip: rect(1px, 1px, 1px, 1px);height: 1px;margin: -1px;overflow: hidden;padding: 0;position: absolute;width: 1px;}#sk-container-id-1 div.sk-estimator {font-family: monospace;background-color: #f0f8ff;border: 1px dotted black;border-radius: 0.25em;box-sizing: border-box;margin-bottom: 0.5em;}#sk-container-id-1 div.sk-estimator:hover {background-color: #d4ebff;}#sk-container-id-1 div.sk-parallel-item::after {content: \"\";width: 100%;border-bottom: 1px solid gray;flex-grow: 1;}#sk-container-id-1 div.sk-label:hover label.sk-toggleable__label {background-color: #d4ebff;}#sk-container-id-1 div.sk-serial::before {content: \"\";position: absolute;border-left: 1px solid gray;box-sizing: border-box;top: 0;bottom: 0;left: 50%;z-index: 0;}#sk-container-id-1 div.sk-serial {display: flex;flex-direction: column;align-items: center;background-color: white;padding-right: 0.2em;padding-left: 0.2em;position: relative;}#sk-container-id-1 div.sk-item {position: relative;z-index: 1;}#sk-container-id-1 div.sk-parallel {display: flex;align-items: stretch;justify-content: center;background-color: white;position: relative;}#sk-container-id-1 div.sk-item::before, #sk-container-id-1 div.sk-parallel-item::before {content: \"\";position: absolute;border-left: 1px solid gray;box-sizing: border-box;top: 0;bottom: 0;left: 50%;z-index: -1;}#sk-container-id-1 div.sk-parallel-item {display: flex;flex-direction: column;z-index: 1;position: relative;background-color: white;}#sk-container-id-1 div.sk-parallel-item:first-child::after {align-self: flex-end;width: 50%;}#sk-container-id-1 div.sk-parallel-item:last-child::after {align-self: flex-start;width: 50%;}#sk-container-id-1 div.sk-parallel-item:only-child::after {width: 0;}#sk-container-id-1 div.sk-dashed-wrapped {border: 1px dashed gray;margin: 0 0.4em 0.5em 0.4em;box-sizing: border-box;padding-bottom: 0.4em;background-color: white;}#sk-container-id-1 div.sk-label label {font-family: monospace;font-weight: bold;display: inline-block;line-height: 1.2em;}#sk-container-id-1 div.sk-label-container {text-align: center;}#sk-container-id-1 div.sk-container {/* jupyter's `normalize.less` sets `[hidden] { display: none; }` but bootstrap.min.css set `[hidden] { display: none !important; }` so we also need the `!important` here to be able to override the default hidden behavior on the sphinx rendered scikit-learn.org. See: https://github.com/scikit-learn/scikit-learn/issues/21755 */display: inline-block !important;position: relative;}#sk-container-id-1 div.sk-text-repr-fallback {display: none;}</style><div id=\"sk-container-id-1\" class=\"sk-top-container\"><div class=\"sk-text-repr-fallback\"><pre>Pipeline(steps=[(&#x27;vect&#x27;,\n",
       "                 CountVectorizer(tokenizer=&lt;function tokenize at 0x7fb4aaad4b80&gt;)),\n",
       "                (&#x27;tfidf&#x27;, TfidfTransformer()),\n",
       "                (&#x27;clf&#x27;,\n",
       "                 MultiOutputClassifier(estimator=DecisionTreeClassifier(max_depth=7,\n",
       "                                                                        min_samples_split=5,\n",
       "                                                                        random_state=42)))])</pre><b>In a Jupyter environment, please rerun this cell to show the HTML representation or trust the notebook. <br />On GitHub, the HTML representation is unable to render, please try loading this page with nbviewer.org.</b></div><div class=\"sk-container\" hidden><div class=\"sk-item sk-dashed-wrapped\"><div class=\"sk-label-container\"><div class=\"sk-label sk-toggleable\"><input class=\"sk-toggleable__control sk-hidden--visually\" id=\"sk-estimator-id-1\" type=\"checkbox\" ><label for=\"sk-estimator-id-1\" class=\"sk-toggleable__label sk-toggleable__label-arrow\">Pipeline</label><div class=\"sk-toggleable__content\"><pre>Pipeline(steps=[(&#x27;vect&#x27;,\n",
       "                 CountVectorizer(tokenizer=&lt;function tokenize at 0x7fb4aaad4b80&gt;)),\n",
       "                (&#x27;tfidf&#x27;, TfidfTransformer()),\n",
       "                (&#x27;clf&#x27;,\n",
       "                 MultiOutputClassifier(estimator=DecisionTreeClassifier(max_depth=7,\n",
       "                                                                        min_samples_split=5,\n",
       "                                                                        random_state=42)))])</pre></div></div></div><div class=\"sk-serial\"><div class=\"sk-item\"><div class=\"sk-estimator sk-toggleable\"><input class=\"sk-toggleable__control sk-hidden--visually\" id=\"sk-estimator-id-2\" type=\"checkbox\" ><label for=\"sk-estimator-id-2\" class=\"sk-toggleable__label sk-toggleable__label-arrow\">CountVectorizer</label><div class=\"sk-toggleable__content\"><pre>CountVectorizer(tokenizer=&lt;function tokenize at 0x7fb4aaad4b80&gt;)</pre></div></div></div><div class=\"sk-item\"><div class=\"sk-estimator sk-toggleable\"><input class=\"sk-toggleable__control sk-hidden--visually\" id=\"sk-estimator-id-3\" type=\"checkbox\" ><label for=\"sk-estimator-id-3\" class=\"sk-toggleable__label sk-toggleable__label-arrow\">TfidfTransformer</label><div class=\"sk-toggleable__content\"><pre>TfidfTransformer()</pre></div></div></div><div class=\"sk-item sk-dashed-wrapped\"><div class=\"sk-label-container\"><div class=\"sk-label sk-toggleable\"><input class=\"sk-toggleable__control sk-hidden--visually\" id=\"sk-estimator-id-4\" type=\"checkbox\" ><label for=\"sk-estimator-id-4\" class=\"sk-toggleable__label sk-toggleable__label-arrow\">clf: MultiOutputClassifier</label><div class=\"sk-toggleable__content\"><pre>MultiOutputClassifier(estimator=DecisionTreeClassifier(max_depth=7,\n",
       "                                                       min_samples_split=5,\n",
       "                                                       random_state=42))</pre></div></div></div><div class=\"sk-parallel\"><div class=\"sk-parallel-item\"><div class=\"sk-item\"><div class=\"sk-label-container\"><div class=\"sk-label sk-toggleable\"><input class=\"sk-toggleable__control sk-hidden--visually\" id=\"sk-estimator-id-5\" type=\"checkbox\" ><label for=\"sk-estimator-id-5\" class=\"sk-toggleable__label sk-toggleable__label-arrow\">estimator: DecisionTreeClassifier</label><div class=\"sk-toggleable__content\"><pre>DecisionTreeClassifier(max_depth=7, min_samples_split=5, random_state=42)</pre></div></div></div><div class=\"sk-serial\"><div class=\"sk-item\"><div class=\"sk-estimator sk-toggleable\"><input class=\"sk-toggleable__control sk-hidden--visually\" id=\"sk-estimator-id-6\" type=\"checkbox\" ><label for=\"sk-estimator-id-6\" class=\"sk-toggleable__label sk-toggleable__label-arrow\">DecisionTreeClassifier</label><div class=\"sk-toggleable__content\"><pre>DecisionTreeClassifier(max_depth=7, min_samples_split=5, random_state=42)</pre></div></div></div></div></div></div></div></div></div></div></div></div>"
      ],
      "text/plain": [
       "Pipeline(steps=[('vect',\n",
       "                 CountVectorizer(tokenizer=<function tokenize at 0x7fb4aaad4b80>)),\n",
       "                ('tfidf', TfidfTransformer()),\n",
       "                ('clf',\n",
       "                 MultiOutputClassifier(estimator=DecisionTreeClassifier(max_depth=7,\n",
       "                                                                        min_samples_split=5,\n",
       "                                                                        random_state=42)))])"
      ]
     },
     "execution_count": 6,
     "metadata": {},
     "output_type": "execute_result"
    }
   ],
   "source": [
    "pipeline.fit(X_train, y_train)"
   ]
  },
  {
   "cell_type": "markdown",
   "metadata": {},
   "source": [
    "### 5. Test your model\n",
    "Report the f1 score, precision and recall for each output category of the dataset. You can do this by iterating through the columns and calling sklearn's `classification_report` on each."
   ]
  },
  {
   "cell_type": "code",
   "execution_count": 7,
   "metadata": {},
   "outputs": [],
   "source": [
    "y_hat = pipeline.predict(X_test)"
   ]
  },
  {
   "cell_type": "code",
   "execution_count": 8,
   "metadata": {},
   "outputs": [
    {
     "data": {
      "text/html": [
       "<div>\n",
       "<style scoped>\n",
       "    .dataframe tbody tr th:only-of-type {\n",
       "        vertical-align: middle;\n",
       "    }\n",
       "\n",
       "    .dataframe tbody tr th {\n",
       "        vertical-align: top;\n",
       "    }\n",
       "\n",
       "    .dataframe thead th {\n",
       "        text-align: right;\n",
       "    }\n",
       "</style>\n",
       "<table border=\"1\" class=\"dataframe\">\n",
       "  <thead>\n",
       "    <tr style=\"text-align: right;\">\n",
       "      <th></th>\n",
       "      <th></th>\n",
       "      <th>Precision</th>\n",
       "      <th>Recall</th>\n",
       "      <th>F-1 Score</th>\n",
       "      <th>Support</th>\n",
       "    </tr>\n",
       "    <tr>\n",
       "      <th>Label</th>\n",
       "      <th>Value</th>\n",
       "      <th></th>\n",
       "      <th></th>\n",
       "      <th></th>\n",
       "      <th></th>\n",
       "    </tr>\n",
       "  </thead>\n",
       "  <tbody>\n",
       "    <tr>\n",
       "      <th rowspan=\"2\" valign=\"top\">related</th>\n",
       "      <th>0</th>\n",
       "      <td>0.479167</td>\n",
       "      <td>0.019008</td>\n",
       "      <td>0.036566</td>\n",
       "      <td>1210</td>\n",
       "    </tr>\n",
       "    <tr>\n",
       "      <th>1</th>\n",
       "      <td>0.769961</td>\n",
       "      <td>0.993747</td>\n",
       "      <td>0.867657</td>\n",
       "      <td>3998</td>\n",
       "    </tr>\n",
       "    <tr>\n",
       "      <th rowspan=\"2\" valign=\"top\">request</th>\n",
       "      <th>0</th>\n",
       "      <td>0.835441</td>\n",
       "      <td>0.979389</td>\n",
       "      <td>0.901706</td>\n",
       "      <td>4318</td>\n",
       "    </tr>\n",
       "    <tr>\n",
       "      <th>1</th>\n",
       "      <td>0.390411</td>\n",
       "      <td>0.064045</td>\n",
       "      <td>0.110039</td>\n",
       "      <td>890</td>\n",
       "    </tr>\n",
       "    <tr>\n",
       "      <th>offer</th>\n",
       "      <th>0</th>\n",
       "      <td>0.995004</td>\n",
       "      <td>0.999228</td>\n",
       "      <td>0.997111</td>\n",
       "      <td>5182</td>\n",
       "    </tr>\n",
       "    <tr>\n",
       "      <th>...</th>\n",
       "      <th>...</th>\n",
       "      <td>...</td>\n",
       "      <td>...</td>\n",
       "      <td>...</td>\n",
       "      <td>...</td>\n",
       "    </tr>\n",
       "    <tr>\n",
       "      <th rowspan=\"2\" valign=\"top\">direct_report</th>\n",
       "      <th>0</th>\n",
       "      <td>0.812113</td>\n",
       "      <td>0.994314</td>\n",
       "      <td>0.894025</td>\n",
       "      <td>4221</td>\n",
       "    </tr>\n",
       "    <tr>\n",
       "      <th>1</th>\n",
       "      <td>0.400000</td>\n",
       "      <td>0.016211</td>\n",
       "      <td>0.031159</td>\n",
       "      <td>987</td>\n",
       "    </tr>\n",
       "    <tr>\n",
       "      <th rowspan=\"3\" valign=\"top\">Average</th>\n",
       "      <th>micro</th>\n",
       "      <td>0.720674</td>\n",
       "      <td>0.271667</td>\n",
       "      <td>0.394589</td>\n",
       "      <td>-</td>\n",
       "    </tr>\n",
       "    <tr>\n",
       "      <th>macro</th>\n",
       "      <td>0.158851</td>\n",
       "      <td>0.045662</td>\n",
       "      <td>0.053415</td>\n",
       "      <td>-</td>\n",
       "    </tr>\n",
       "    <tr>\n",
       "      <th>weighted</th>\n",
       "      <td>0.422777</td>\n",
       "      <td>0.271667</td>\n",
       "      <td>0.260445</td>\n",
       "      <td>-</td>\n",
       "    </tr>\n",
       "  </tbody>\n",
       "</table>\n",
       "<p>73 rows × 4 columns</p>\n",
       "</div>"
      ],
      "text/plain": [
       "                        Precision    Recall  F-1 Score Support\n",
       "Label         Value                                           \n",
       "related       0          0.479167  0.019008   0.036566    1210\n",
       "              1          0.769961  0.993747   0.867657    3998\n",
       "request       0          0.835441  0.979389   0.901706    4318\n",
       "              1          0.390411  0.064045   0.110039     890\n",
       "offer         0          0.995004  0.999228   0.997111    5182\n",
       "...                           ...       ...        ...     ...\n",
       "direct_report 0          0.812113  0.994314   0.894025    4221\n",
       "              1          0.400000  0.016211   0.031159     987\n",
       "Average       micro      0.720674  0.271667   0.394589       -\n",
       "              macro      0.158851  0.045662   0.053415       -\n",
       "              weighted   0.422777  0.271667   0.260445       -\n",
       "\n",
       "[73 rows x 4 columns]"
      ]
     },
     "execution_count": 8,
     "metadata": {},
     "output_type": "execute_result"
    }
   ],
   "source": [
    "def report_f1_score_precision_recall(y_test, y_hat):\n",
    "        row_list = []\n",
    "        for col_number, col_name in enumerate(y_test.columns):\n",
    "                for label in np.unique(y_hat.ravel()):\n",
    "\n",
    "                        # Get the precision, reacall, f_score and support for column number col_number\n",
    "                        pre_rec_f1_supp = precision_recall_fscore_support(y_true = y_test.iloc[:,col_number], y_pred = y_hat[:,col_number])\n",
    "                        # The precision is the ratio tp / (tp + fp) where tp is the number of true positives and fp the number of false positives. The precision is intuitively the ability of the classifier not to label a negative sample as positive.\n",
    "                        # The recall is the ratio tp / (tp + fn) where tp is the number of true positives and fn the number of false negatives. The recall is intuitively the ability of the classifier to find all the positive samples.\n",
    "                        # The F-beta score can be interpreted as a weighted harmonic mean of the precision and recall, where an F-beta score reaches its best value at 1 and worst score at 0.\n",
    "                        # The F-beta score weights recall more than precision by a factor of beta. beta == 1.0 means recall and precision are equally important.\n",
    "                        # The support is the number of occurrences of each class in y_true.\n",
    "\n",
    "                        # Collect the results. The dicts are collected in row_list which is converted to a Dataframe at the end.\n",
    "\n",
    "                        result = { 'Label': col_name, 'Value': label, 'Precision': pre_rec_f1_supp[0][label], 'Recall': pre_rec_f1_supp[1][label],\n",
    "                                'F-1 Score': pre_rec_f1_supp[2][label], 'Support': pre_rec_f1_supp[3][label] }\n",
    "                        row_list.append(result)\n",
    "        for a in ['micro', 'macro', 'weighted']:\n",
    "                average = precision_recall_fscore_support(y_true = y_test, y_pred = y_hat, average=a)\n",
    "                result = { 'Label': 'Average', 'Value': a, 'Precision': average[0], 'Recall': average[1],\n",
    "                                'F-1 Score': average[2], 'Support': '-' }\n",
    "                row_list.append(result)\n",
    "        res_df=pd.DataFrame(row_list)\n",
    "        res_df.set_index(['Label', 'Value'], inplace=True)\n",
    "        return res_df\n",
    "\n",
    "report_f1_score_precision_recall(y_test, y_hat)"
   ]
  },
  {
   "cell_type": "markdown",
   "metadata": {},
   "source": [
    "### 6. Improve your model\n",
    "Use grid search to find better parameters. "
   ]
  },
  {
   "cell_type": "code",
   "execution_count": 9,
   "metadata": {},
   "outputs": [
    {
     "name": "stdout",
     "output_type": "stream",
     "text": [
      "Fitting 6 folds for each of 9 candidates, totalling 54 fits\n",
      "[CV 1/6] END clf__estimator__max_depth=7, clf__estimator__min_samples_split=5;, score=0.173 total time=  14.3s\n",
      "[CV 2/6] END clf__estimator__max_depth=7, clf__estimator__min_samples_split=5;, score=0.174 total time=  14.4s\n",
      "[CV 3/6] END clf__estimator__max_depth=7, clf__estimator__min_samples_split=5;, score=0.178 total time=  14.0s\n",
      "[CV 4/6] END clf__estimator__max_depth=7, clf__estimator__min_samples_split=5;, score=0.164 total time=  13.8s\n",
      "[CV 5/6] END clf__estimator__max_depth=7, clf__estimator__min_samples_split=5;, score=0.172 total time=  14.8s\n",
      "[CV 6/6] END clf__estimator__max_depth=7, clf__estimator__min_samples_split=5;, score=0.182 total time=  13.3s\n",
      "[CV 1/6] END clf__estimator__max_depth=7, clf__estimator__min_samples_split=7;, score=0.173 total time=  13.3s\n",
      "[CV 2/6] END clf__estimator__max_depth=7, clf__estimator__min_samples_split=7;, score=0.174 total time=  13.3s\n",
      "[CV 3/6] END clf__estimator__max_depth=7, clf__estimator__min_samples_split=7;, score=0.177 total time=  13.5s\n",
      "[CV 4/6] END clf__estimator__max_depth=7, clf__estimator__min_samples_split=7;, score=0.163 total time=  13.4s\n",
      "[CV 5/6] END clf__estimator__max_depth=7, clf__estimator__min_samples_split=7;, score=0.172 total time=  13.6s\n",
      "[CV 6/6] END clf__estimator__max_depth=7, clf__estimator__min_samples_split=7;, score=0.182 total time=  14.2s\n",
      "[CV 1/6] END clf__estimator__max_depth=7, clf__estimator__min_samples_split=9;, score=0.173 total time=  13.3s\n",
      "[CV 2/6] END clf__estimator__max_depth=7, clf__estimator__min_samples_split=9;, score=0.175 total time=  13.3s\n",
      "[CV 3/6] END clf__estimator__max_depth=7, clf__estimator__min_samples_split=9;, score=0.177 total time=  13.3s\n",
      "[CV 4/6] END clf__estimator__max_depth=7, clf__estimator__min_samples_split=9;, score=0.163 total time=  13.3s\n",
      "[CV 5/6] END clf__estimator__max_depth=7, clf__estimator__min_samples_split=9;, score=0.171 total time=  13.3s\n",
      "[CV 6/6] END clf__estimator__max_depth=7, clf__estimator__min_samples_split=9;, score=0.181 total time=  13.4s\n",
      "[CV 1/6] END clf__estimator__max_depth=9, clf__estimator__min_samples_split=5;, score=0.164 total time=  14.6s\n",
      "[CV 2/6] END clf__estimator__max_depth=9, clf__estimator__min_samples_split=5;, score=0.170 total time=  14.7s\n",
      "[CV 3/6] END clf__estimator__max_depth=9, clf__estimator__min_samples_split=5;, score=0.176 total time=  14.7s\n",
      "[CV 4/6] END clf__estimator__max_depth=9, clf__estimator__min_samples_split=5;, score=0.160 total time=  14.6s\n",
      "[CV 5/6] END clf__estimator__max_depth=9, clf__estimator__min_samples_split=5;, score=0.168 total time=  14.6s\n",
      "[CV 6/6] END clf__estimator__max_depth=9, clf__estimator__min_samples_split=5;, score=0.180 total time=  14.8s\n",
      "[CV 1/6] END clf__estimator__max_depth=9, clf__estimator__min_samples_split=7;, score=0.164 total time=  14.6s\n",
      "[CV 2/6] END clf__estimator__max_depth=9, clf__estimator__min_samples_split=7;, score=0.171 total time=  17.1s\n",
      "[CV 3/6] END clf__estimator__max_depth=9, clf__estimator__min_samples_split=7;, score=0.175 total time=  15.8s\n",
      "[CV 4/6] END clf__estimator__max_depth=9, clf__estimator__min_samples_split=7;, score=0.160 total time=  14.8s\n",
      "[CV 5/6] END clf__estimator__max_depth=9, clf__estimator__min_samples_split=7;, score=0.168 total time=  14.7s\n",
      "[CV 6/6] END clf__estimator__max_depth=9, clf__estimator__min_samples_split=7;, score=0.179 total time=  14.8s\n",
      "[CV 1/6] END clf__estimator__max_depth=9, clf__estimator__min_samples_split=9;, score=0.164 total time=  14.6s\n",
      "[CV 2/6] END clf__estimator__max_depth=9, clf__estimator__min_samples_split=9;, score=0.170 total time=  14.9s\n",
      "[CV 3/6] END clf__estimator__max_depth=9, clf__estimator__min_samples_split=9;, score=0.174 total time=  14.8s\n",
      "[CV 4/6] END clf__estimator__max_depth=9, clf__estimator__min_samples_split=9;, score=0.159 total time=  14.7s\n",
      "[CV 5/6] END clf__estimator__max_depth=9, clf__estimator__min_samples_split=9;, score=0.168 total time=  14.7s\n",
      "[CV 6/6] END clf__estimator__max_depth=9, clf__estimator__min_samples_split=9;, score=0.179 total time=  14.8s\n",
      "[CV 1/6] END clf__estimator__max_depth=11, clf__estimator__min_samples_split=5;, score=0.159 total time=  16.0s\n",
      "[CV 2/6] END clf__estimator__max_depth=11, clf__estimator__min_samples_split=5;, score=0.164 total time=  16.1s\n",
      "[CV 3/6] END clf__estimator__max_depth=11, clf__estimator__min_samples_split=5;, score=0.170 total time=  16.1s\n",
      "[CV 4/6] END clf__estimator__max_depth=11, clf__estimator__min_samples_split=5;, score=0.158 total time=  16.1s\n",
      "[CV 5/6] END clf__estimator__max_depth=11, clf__estimator__min_samples_split=5;, score=0.164 total time=  16.0s\n",
      "[CV 6/6] END clf__estimator__max_depth=11, clf__estimator__min_samples_split=5;, score=0.173 total time=  16.2s\n",
      "[CV 1/6] END clf__estimator__max_depth=11, clf__estimator__min_samples_split=7;, score=0.158 total time=  15.9s\n",
      "[CV 2/6] END clf__estimator__max_depth=11, clf__estimator__min_samples_split=7;, score=0.165 total time=  16.1s\n",
      "[CV 3/6] END clf__estimator__max_depth=11, clf__estimator__min_samples_split=7;, score=0.167 total time=  16.1s\n",
      "[CV 4/6] END clf__estimator__max_depth=11, clf__estimator__min_samples_split=7;, score=0.158 total time=  16.0s\n",
      "[CV 5/6] END clf__estimator__max_depth=11, clf__estimator__min_samples_split=7;, score=0.166 total time=  16.1s\n",
      "[CV 6/6] END clf__estimator__max_depth=11, clf__estimator__min_samples_split=7;, score=0.171 total time=  16.1s\n",
      "[CV 1/6] END clf__estimator__max_depth=11, clf__estimator__min_samples_split=9;, score=0.159 total time=  16.1s\n",
      "[CV 2/6] END clf__estimator__max_depth=11, clf__estimator__min_samples_split=9;, score=0.166 total time=  16.2s\n",
      "[CV 3/6] END clf__estimator__max_depth=11, clf__estimator__min_samples_split=9;, score=0.168 total time=  16.4s\n",
      "[CV 4/6] END clf__estimator__max_depth=11, clf__estimator__min_samples_split=9;, score=0.158 total time=  16.7s\n",
      "[CV 5/6] END clf__estimator__max_depth=11, clf__estimator__min_samples_split=9;, score=0.166 total time=  16.7s\n",
      "[CV 6/6] END clf__estimator__max_depth=11, clf__estimator__min_samples_split=9;, score=0.174 total time=  16.0s\n",
      "Best: 0.173788 using {'clf__estimator__max_depth': 7, 'clf__estimator__min_samples_split': 5}\n",
      "0.173788 (0.005629) with: {'clf__estimator__max_depth': 7, 'clf__estimator__min_samples_split': 5}\n",
      "0.173308 (0.005694) with: {'clf__estimator__max_depth': 7, 'clf__estimator__min_samples_split': 7}\n",
      "0.173308 (0.005472) with: {'clf__estimator__max_depth': 7, 'clf__estimator__min_samples_split': 9}\n",
      "0.169684 (0.006820) with: {'clf__estimator__max_depth': 9, 'clf__estimator__min_samples_split': 5}\n",
      "0.169395 (0.006603) with: {'clf__estimator__max_depth': 9, 'clf__estimator__min_samples_split': 7}\n",
      "0.169059 (0.006607) with: {'clf__estimator__max_depth': 9, 'clf__estimator__min_samples_split': 9}\n",
      "0.164619 (0.005424) with: {'clf__estimator__max_depth': 11, 'clf__estimator__min_samples_split': 5}\n",
      "0.163947 (0.004779) with: {'clf__estimator__max_depth': 11, 'clf__estimator__min_samples_split': 7}\n",
      "0.165147 (0.005315) with: {'clf__estimator__max_depth': 11, 'clf__estimator__min_samples_split': 9}\n"
     ]
    }
   ],
   "source": [
    "# define the grid of values to search\n",
    "parameters = dict()\n",
    "# clf__estimator__ prefix to address the model in the pipeline above\n",
    "\n",
    "parameters['clf__estimator__max_depth'] = [7, 9, 11]\n",
    "parameters['clf__estimator__min_samples_split'] = [5, 7, 9]\n",
    "\n",
    "\n",
    "# define the evaluation procedure\n",
    "cv = RepeatedKFold(n_splits=3, n_repeats=2, random_state=42)\n",
    "\n",
    "# define the grid search procedure\n",
    "grid_search = GridSearchCV(verbose=3, estimator=pipeline, param_grid=parameters, n_jobs=1, cv=cv, scoring='accuracy')\n",
    "\n",
    "# execute the grid search\n",
    "grid_result = grid_search.fit(X_train, y_train)\n",
    "\n",
    "# summarize the best score and configuration\n",
    "print(\"Best: %f using %s\" % (grid_result.best_score_, grid_result.best_params_))\n",
    "\n",
    "# summarize all scores that were evaluated\n",
    "means = grid_result.cv_results_['mean_test_score']\n",
    "stds = grid_result.cv_results_['std_test_score']\n",
    "params = grid_result.cv_results_['params']\n",
    "for mean, stdev, param in zip(means, stds, params):\n",
    "    print(\"%f (%f) with: %r\" % (mean, stdev, param))\n"
   ]
  },
  {
   "cell_type": "markdown",
   "metadata": {},
   "source": [
    "### 7. Test your model\n",
    "Show the accuracy, precision, and recall of the tuned model.  \n",
    "\n",
    "Since this project focuses on code quality, process, and  pipelines, there is no minimum performance metric needed to pass. However, make sure to fine tune your models for accuracy, precision and recall to make your project stand out - especially for your portfolio!"
   ]
  },
  {
   "cell_type": "code",
   "execution_count": 10,
   "metadata": {},
   "outputs": [],
   "source": [
    "y_hat2 = grid_result.best_estimator_.predict(X_test)"
   ]
  },
  {
   "cell_type": "code",
   "execution_count": 11,
   "metadata": {},
   "outputs": [
    {
     "data": {
      "text/html": [
       "<div>\n",
       "<style scoped>\n",
       "    .dataframe tbody tr th:only-of-type {\n",
       "        vertical-align: middle;\n",
       "    }\n",
       "\n",
       "    .dataframe tbody tr th {\n",
       "        vertical-align: top;\n",
       "    }\n",
       "\n",
       "    .dataframe thead th {\n",
       "        text-align: right;\n",
       "    }\n",
       "</style>\n",
       "<table border=\"1\" class=\"dataframe\">\n",
       "  <thead>\n",
       "    <tr style=\"text-align: right;\">\n",
       "      <th></th>\n",
       "      <th></th>\n",
       "      <th>Precision</th>\n",
       "      <th>Recall</th>\n",
       "      <th>F-1 Score</th>\n",
       "      <th>Support</th>\n",
       "    </tr>\n",
       "    <tr>\n",
       "      <th>Label</th>\n",
       "      <th>Value</th>\n",
       "      <th></th>\n",
       "      <th></th>\n",
       "      <th></th>\n",
       "      <th></th>\n",
       "    </tr>\n",
       "  </thead>\n",
       "  <tbody>\n",
       "    <tr>\n",
       "      <th rowspan=\"2\" valign=\"top\">related</th>\n",
       "      <th>0</th>\n",
       "      <td>0.479167</td>\n",
       "      <td>0.019008</td>\n",
       "      <td>0.036566</td>\n",
       "      <td>1210</td>\n",
       "    </tr>\n",
       "    <tr>\n",
       "      <th>1</th>\n",
       "      <td>0.769961</td>\n",
       "      <td>0.993747</td>\n",
       "      <td>0.867657</td>\n",
       "      <td>3998</td>\n",
       "    </tr>\n",
       "    <tr>\n",
       "      <th rowspan=\"2\" valign=\"top\">request</th>\n",
       "      <th>0</th>\n",
       "      <td>0.835441</td>\n",
       "      <td>0.979389</td>\n",
       "      <td>0.901706</td>\n",
       "      <td>4318</td>\n",
       "    </tr>\n",
       "    <tr>\n",
       "      <th>1</th>\n",
       "      <td>0.390411</td>\n",
       "      <td>0.064045</td>\n",
       "      <td>0.110039</td>\n",
       "      <td>890</td>\n",
       "    </tr>\n",
       "    <tr>\n",
       "      <th>offer</th>\n",
       "      <th>0</th>\n",
       "      <td>0.995004</td>\n",
       "      <td>0.999228</td>\n",
       "      <td>0.997111</td>\n",
       "      <td>5182</td>\n",
       "    </tr>\n",
       "    <tr>\n",
       "      <th>...</th>\n",
       "      <th>...</th>\n",
       "      <td>...</td>\n",
       "      <td>...</td>\n",
       "      <td>...</td>\n",
       "      <td>...</td>\n",
       "    </tr>\n",
       "    <tr>\n",
       "      <th rowspan=\"2\" valign=\"top\">direct_report</th>\n",
       "      <th>0</th>\n",
       "      <td>0.812113</td>\n",
       "      <td>0.994314</td>\n",
       "      <td>0.894025</td>\n",
       "      <td>4221</td>\n",
       "    </tr>\n",
       "    <tr>\n",
       "      <th>1</th>\n",
       "      <td>0.400000</td>\n",
       "      <td>0.016211</td>\n",
       "      <td>0.031159</td>\n",
       "      <td>987</td>\n",
       "    </tr>\n",
       "    <tr>\n",
       "      <th rowspan=\"3\" valign=\"top\">Average</th>\n",
       "      <th>micro</th>\n",
       "      <td>0.720674</td>\n",
       "      <td>0.271667</td>\n",
       "      <td>0.394589</td>\n",
       "      <td>-</td>\n",
       "    </tr>\n",
       "    <tr>\n",
       "      <th>macro</th>\n",
       "      <td>0.158851</td>\n",
       "      <td>0.045662</td>\n",
       "      <td>0.053415</td>\n",
       "      <td>-</td>\n",
       "    </tr>\n",
       "    <tr>\n",
       "      <th>weighted</th>\n",
       "      <td>0.422777</td>\n",
       "      <td>0.271667</td>\n",
       "      <td>0.260445</td>\n",
       "      <td>-</td>\n",
       "    </tr>\n",
       "  </tbody>\n",
       "</table>\n",
       "<p>73 rows × 4 columns</p>\n",
       "</div>"
      ],
      "text/plain": [
       "                        Precision    Recall  F-1 Score Support\n",
       "Label         Value                                           \n",
       "related       0          0.479167  0.019008   0.036566    1210\n",
       "              1          0.769961  0.993747   0.867657    3998\n",
       "request       0          0.835441  0.979389   0.901706    4318\n",
       "              1          0.390411  0.064045   0.110039     890\n",
       "offer         0          0.995004  0.999228   0.997111    5182\n",
       "...                           ...       ...        ...     ...\n",
       "direct_report 0          0.812113  0.994314   0.894025    4221\n",
       "              1          0.400000  0.016211   0.031159     987\n",
       "Average       micro      0.720674  0.271667   0.394589       -\n",
       "              macro      0.158851  0.045662   0.053415       -\n",
       "              weighted   0.422777  0.271667   0.260445       -\n",
       "\n",
       "[73 rows x 4 columns]"
      ]
     },
     "execution_count": 11,
     "metadata": {},
     "output_type": "execute_result"
    }
   ],
   "source": [
    "report_f1_score_precision_recall(y_test, y_hat2)"
   ]
  },
  {
   "cell_type": "markdown",
   "metadata": {},
   "source": [
    "### 8. Try improving your model further. Here are a few ideas:\n",
    "* try other machine learning algorithms\n",
    "* add other features besides the TF-IDF"
   ]
  },
  {
   "cell_type": "code",
   "execution_count": 5,
   "metadata": {},
   "outputs": [
    {
     "name": "stderr",
     "output_type": "stream",
     "text": [
      "\u001b[32m[I 2022-08-15 13:20:23,669]\u001b[0m A new study created in memory with name: no-name-21ffda48-0e20-42fa-bfe0-49c8b3718641\u001b[0m\n",
      "\u001b[32m[I 2022-08-15 13:20:23,670]\u001b[0m Searching the best hyperparameters using 20830 samples...\u001b[0m\n"
     ]
    },
    {
     "name": "stdout",
     "output_type": "stream",
     "text": [
      "[LightGBM] [Warning] min_data_in_leaf is set=29, min_child_samples=20 will be ignored. Current value: min_data_in_leaf=29\n",
      "[LightGBM] [Warning] min_data_in_leaf is set=36, min_child_samples=20 will be ignored. Current value: min_data_in_leaf=36\n",
      "[LightGBM] [Warning] min_data_in_leaf is set=82, min_child_samples=20 will be ignored. Current value: min_data_in_leaf=82\n",
      "[LightGBM] [Warning] min_data_in_leaf is set=14, min_child_samples=20 will be ignored. Current value: min_data_in_leaf=14\n",
      "[LightGBM] [Warning] min_data_in_leaf is set=91, min_child_samples=20 will be ignored. Current value: min_data_in_leaf=91\n",
      "[LightGBM] [Warning] min_data_in_leaf is set=97, min_child_samples=20 will be ignored. Current value: min_data_in_leaf=97\n",
      "[LightGBM] [Warning] min_data_in_leaf is set=48, min_child_samples=20 will be ignored. Current value: min_data_in_leaf=48\n",
      "[LightGBM] [Warning] min_data_in_leaf is set=99, min_child_samples=20 will be ignored. Current value: min_data_in_leaf=99\n",
      "[LightGBM] [Warning] min_data_in_leaf is set=97, min_child_samples=20 will be ignored. Current value: min_data_in_leaf=97\n",
      "[LightGBM] [Warning] min_data_in_leaf is set=48, min_child_samples=20 will be ignored. Current value: min_data_in_leaf=48\n"
     ]
    },
    {
     "name": "stderr",
     "output_type": "stream",
     "text": [
      "\u001b[32m[I 2022-08-15 13:24:26,006]\u001b[0m Trial 1 finished with value: 0.18206913106096975 and parameters: {'clf__estimator__num_leaves': 23, 'clf__estimator__max_depth': 4, 'clf__estimator__min_data_in_leaf': 97}. Best is trial 1 with value: 0.18206913106096975.\u001b[0m\n"
     ]
    },
    {
     "name": "stdout",
     "output_type": "stream",
     "text": [
      "[LightGBM] [Warning] min_data_in_leaf is set=99, min_child_samples=20 will be ignored. Current value: min_data_in_leaf=99\n",
      "[LightGBM] [Warning] min_data_in_leaf is set=82, min_child_samples=20 will be ignored. Current value: min_data_in_leaf=82\n"
     ]
    },
    {
     "name": "stderr",
     "output_type": "stream",
     "text": [
      "\u001b[32m[I 2022-08-15 13:25:31,762]\u001b[0m Trial 0 finished with value: 0.17762842054728756 and parameters: {'clf__estimator__num_leaves': 21, 'clf__estimator__max_depth': 5, 'clf__estimator__min_data_in_leaf': 48}. Best is trial 1 with value: 0.18206913106096975.\u001b[0m\n"
     ]
    },
    {
     "name": "stdout",
     "output_type": "stream",
     "text": [
      "[LightGBM] [Warning] min_data_in_leaf is set=21, min_child_samples=20 will be ignored. Current value: min_data_in_leaf=21\n",
      "[LightGBM] [Warning] min_data_in_leaf is set=91, min_child_samples=20 will be ignored. Current value: min_data_in_leaf=91\n",
      "[LightGBM] [Warning] min_data_in_leaf is set=36, min_child_samples=20 will be ignored. Current value: min_data_in_leaf=36\n",
      "[LightGBM] [Warning] min_data_in_leaf is set=29, min_child_samples=20 will be ignored. Current value: min_data_in_leaf=29\n",
      "[LightGBM] [Warning] min_data_in_leaf is set=68, min_child_samples=20 will be ignored. Current value: min_data_in_leaf=68\n",
      "[LightGBM] [Warning] min_data_in_leaf is set=14, min_child_samples=20 will be ignored. Current value: min_data_in_leaf=14\n",
      "[LightGBM] [Warning] min_data_in_leaf is set=99, min_child_samples=20 will be ignored. Current value: min_data_in_leaf=99\n",
      "[LightGBM] [Warning] min_data_in_leaf is set=82, min_child_samples=20 will be ignored. Current value: min_data_in_leaf=82\n",
      "[LightGBM] [Warning] min_data_in_leaf is set=91, min_child_samples=20 will be ignored. Current value: min_data_in_leaf=91\n",
      "[LightGBM] [Warning] min_data_in_leaf is set=21, min_child_samples=20 will be ignored. Current value: min_data_in_leaf=21\n"
     ]
    },
    {
     "name": "stderr",
     "output_type": "stream",
     "text": [
      "\u001b[32m[I 2022-08-15 13:28:39,215]\u001b[0m Trial 5 finished with value: 0.16738678188510162 and parameters: {'clf__estimator__num_leaves': 39, 'clf__estimator__max_depth': 9, 'clf__estimator__min_data_in_leaf': 99}. Best is trial 1 with value: 0.18206913106096975.\u001b[0m\n",
      "\u001b[32m[I 2022-08-15 13:29:20,048]\u001b[0m Trial 3 finished with value: 0.16166586653864617 and parameters: {'clf__estimator__num_leaves': 33, 'clf__estimator__max_depth': 11, 'clf__estimator__min_data_in_leaf': 36}. Best is trial 1 with value: 0.18206913106096975.\u001b[0m\n",
      "\u001b[32m[I 2022-08-15 13:29:45,857]\u001b[0m Trial 4 finished with value: 0.16314610337654026 and parameters: {'clf__estimator__num_leaves': 24, 'clf__estimator__max_depth': 11, 'clf__estimator__min_data_in_leaf': 82}. Best is trial 1 with value: 0.18206913106096975.\u001b[0m\n",
      "\u001b[32m[I 2022-08-15 13:29:52,667]\u001b[0m Trial 6 finished with value: 0.15962554008641383 and parameters: {'clf__estimator__num_leaves': 36, 'clf__estimator__max_depth': 14, 'clf__estimator__min_data_in_leaf': 91}. Best is trial 1 with value: 0.18206913106096975.\u001b[0m\n"
     ]
    },
    {
     "name": "stdout",
     "output_type": "stream",
     "text": [
      "[LightGBM] [Warning] min_data_in_leaf is set=29, min_child_samples=20 will be ignored. Current value: min_data_in_leaf=29\n",
      "[LightGBM] [Warning] min_data_in_leaf is set=68, min_child_samples=20 will be ignored. Current value: min_data_in_leaf=68\n",
      "[LightGBM] [Warning] min_data_in_leaf is set=14, min_child_samples=20 will be ignored. Current value: min_data_in_leaf=14\n",
      "[LightGBM] [Warning] min_data_in_leaf is set=21, min_child_samples=20 will be ignored. Current value: min_data_in_leaf=21\n",
      "[LightGBM] [Warning] min_data_in_leaf is set=68, min_child_samples=20 will be ignored. Current value: min_data_in_leaf=68\n",
      "[LightGBM] [Warning] min_data_in_leaf is set=29, min_child_samples=20 will be ignored. Current value: min_data_in_leaf=29\n",
      "[LightGBM] [Warning] min_data_in_leaf is set=21, min_child_samples=20 will be ignored. Current value: min_data_in_leaf=21\n"
     ]
    },
    {
     "name": "stderr",
     "output_type": "stream",
     "text": [
      "\u001b[32m[I 2022-08-15 13:32:59,240]\u001b[0m Trial 2 finished with value: 0.1569051048167707 and parameters: {'clf__estimator__num_leaves': 28, 'clf__estimator__max_depth': 15, 'clf__estimator__min_data_in_leaf': 14}. Best is trial 1 with value: 0.18206913106096975.\u001b[0m\n"
     ]
    },
    {
     "name": "stdout",
     "output_type": "stream",
     "text": [
      "[LightGBM] [Warning] min_data_in_leaf is set=68, min_child_samples=20 will be ignored. Current value: min_data_in_leaf=68\n",
      "[LightGBM] [Warning] min_data_in_leaf is set=29, min_child_samples=20 will be ignored. Current value: min_data_in_leaf=29\n",
      "[LightGBM] [Warning] min_data_in_leaf is set=21, min_child_samples=20 will be ignored. Current value: min_data_in_leaf=21\n",
      "[LightGBM] [Warning] min_data_in_leaf is set=68, min_child_samples=20 will be ignored. Current value: min_data_in_leaf=68\n"
     ]
    },
    {
     "name": "stderr",
     "output_type": "stream",
     "text": [
      "\u001b[32m[I 2022-08-15 13:34:46,392]\u001b[0m Trial 7 finished with value: 0.1642822851656265 and parameters: {'clf__estimator__num_leaves': 37, 'clf__estimator__max_depth': 10, 'clf__estimator__min_data_in_leaf': 29}. Best is trial 1 with value: 0.18206913106096975.\u001b[0m\n",
      "\u001b[32m[I 2022-08-15 13:35:14,469]\u001b[0m Trial 8 finished with value: 0.16577052328372538 and parameters: {'clf__estimator__num_leaves': 39, 'clf__estimator__max_depth': 9, 'clf__estimator__min_data_in_leaf': 21}. Best is trial 1 with value: 0.18206913106096975.\u001b[0m\n",
      "\u001b[32m[I 2022-08-15 13:35:18,990]\u001b[0m Trial 9 finished with value: 0.15847335573691793 and parameters: {'clf__estimator__num_leaves': 30, 'clf__estimator__max_depth': 14, 'clf__estimator__min_data_in_leaf': 68}. Best is trial 1 with value: 0.18206913106096975.\u001b[0m\n",
      "\u001b[32m[I 2022-08-15 13:35:18,991]\u001b[0m Finished hyperparemeter search!\u001b[0m\n",
      "\u001b[32m[I 2022-08-15 13:35:18,994]\u001b[0m Refitting the estimator using 20830 samples...\u001b[0m\n"
     ]
    },
    {
     "name": "stdout",
     "output_type": "stream",
     "text": [
      "[LightGBM] [Warning] min_data_in_leaf is set=97, min_child_samples=20 will be ignored. Current value: min_data_in_leaf=97\n"
     ]
    },
    {
     "name": "stderr",
     "output_type": "stream",
     "text": [
      "\u001b[32m[I 2022-08-15 13:35:42,192]\u001b[0m Finished refitting! (elapsed time: 23.197 sec.)\u001b[0m\n"
     ]
    },
    {
     "name": "stdout",
     "output_type": "stream",
     "text": [
      "Best trial:\n",
      "  Value:  0.18206913106096975\n",
      "  Params: \n",
      "    clf__estimator__num_leaves: 23\n",
      "    clf__estimator__max_depth: 4\n",
      "    clf__estimator__min_data_in_leaf: 97\n"
     ]
    }
   ],
   "source": [
    "\n",
    "# Use LGBM Classifier\n",
    "\n",
    "pipeline2 = Pipeline([\n",
    "                        ('vect', CountVectorizer(tokenizer = tokenize)),\n",
    "                        ('tfidf', TfidfTransformer()),\n",
    "                        ('clf', MultiOutputClassifier(LGBMClassifier(random_state=42, objective='binary', n_jobs=-1)))\n",
    "                    ])\n",
    "\n",
    "\n",
    "optuna_param_dist = {\n",
    "                        'clf__estimator__num_leaves': IntUniformDistribution(20,40),\n",
    "                        'clf__estimator__max_depth': IntUniformDistribution(3,15),\n",
    "                        'clf__estimator__min_data_in_leaf': IntUniformDistribution(10,100)\n",
    "                    }\n",
    "                         \n",
    "clf = OptunaSearchCV(pipeline2, optuna_param_dist, cv=5, random_state=42, verbose=2, n_jobs=-1)\n",
    "\n",
    "clf.fit(X_train, y_train)\n",
    "\n",
    "print(\"Best trial:\")\n",
    "trial = clf.study_.best_trial\n",
    "\n",
    "print(\"  Value: \", trial.value)\n",
    "print(\"  Params: \")\n",
    "for key, value in trial.params.items():\n",
    "    print(\"    {}: {}\".format(key, value))"
   ]
  },
  {
   "cell_type": "code",
   "execution_count": 16,
   "metadata": {},
   "outputs": [],
   "source": [
    "from optuna.visualization import plot_contour\n",
    "from optuna.visualization import plot_edf\n",
    "from optuna.visualization import plot_intermediate_values\n",
    "from optuna.visualization import plot_optimization_history\n",
    "from optuna.visualization import plot_parallel_coordinate\n",
    "from optuna.visualization import plot_param_importances\n",
    "from optuna.visualization import plot_slice"
   ]
  },
  {
   "cell_type": "code",
   "execution_count": 29,
   "metadata": {},
   "outputs": [
    {
     "data": {
      "application/vnd.plotly.v1+json": {
       "config": {
        "plotlyServerURL": "https://plot.ly"
       },
       "data": [
        {
         "dimensions": [
          {
           "label": "Objective Value",
           "range": [
            0.15674507921267403,
            0.18290926548247718
           ],
           "values": [
            0.1672107537205953,
            0.18290926548247718,
            0.17493999039846375,
            0.1661065770523284,
            0.17767642822851654,
            0.16385021603456554,
            0.16711473835813728,
            0.15674507921267403,
            0.16332213154104658,
            0.1614498319731157
           ]
          },
          {
           "label": "clf__estimator__m...",
           "range": [
            4,
            15
           ],
           "values": [
            10,
            4,
            6,
            10,
            5,
            11,
            9,
            15,
            10,
            12
           ]
          },
          {
           "label": "clf__estimator__m...",
           "range": [
            22,
            90
           ],
           "values": [
            77,
            60,
            84,
            64,
            76,
            63,
            90,
            60,
            22,
            60
           ]
          },
          {
           "label": "clf__estimator__n...",
           "range": [
            22,
            39
           ],
           "values": [
            23,
            28,
            32,
            24,
            37,
            36,
            39,
            22,
            27,
            30
           ]
          }
         ],
         "labelangle": 30,
         "labelside": "bottom",
         "line": {
          "color": [
           0.1672107537205953,
           0.18290926548247718,
           0.17493999039846375,
           0.1661065770523284,
           0.17767642822851654,
           0.16385021603456554,
           0.16711473835813728,
           0.15674507921267403,
           0.16332213154104658,
           0.1614498319731157
          ],
          "colorbar": {
           "title": {
            "text": "Objective Value"
           }
          },
          "colorscale": [
           [
            0,
            "rgb(247,251,255)"
           ],
           [
            0.125,
            "rgb(222,235,247)"
           ],
           [
            0.25,
            "rgb(198,219,239)"
           ],
           [
            0.375,
            "rgb(158,202,225)"
           ],
           [
            0.5,
            "rgb(107,174,214)"
           ],
           [
            0.625,
            "rgb(66,146,198)"
           ],
           [
            0.75,
            "rgb(33,113,181)"
           ],
           [
            0.875,
            "rgb(8,81,156)"
           ],
           [
            1,
            "rgb(8,48,107)"
           ]
          ],
          "reversescale": false,
          "showscale": true
         },
         "type": "parcoords"
        }
       ],
       "layout": {
        "template": {
         "data": {
          "bar": [
           {
            "error_x": {
             "color": "#2a3f5f"
            },
            "error_y": {
             "color": "#2a3f5f"
            },
            "marker": {
             "line": {
              "color": "#E5ECF6",
              "width": 0.5
             },
             "pattern": {
              "fillmode": "overlay",
              "size": 10,
              "solidity": 0.2
             }
            },
            "type": "bar"
           }
          ],
          "barpolar": [
           {
            "marker": {
             "line": {
              "color": "#E5ECF6",
              "width": 0.5
             },
             "pattern": {
              "fillmode": "overlay",
              "size": 10,
              "solidity": 0.2
             }
            },
            "type": "barpolar"
           }
          ],
          "carpet": [
           {
            "aaxis": {
             "endlinecolor": "#2a3f5f",
             "gridcolor": "white",
             "linecolor": "white",
             "minorgridcolor": "white",
             "startlinecolor": "#2a3f5f"
            },
            "baxis": {
             "endlinecolor": "#2a3f5f",
             "gridcolor": "white",
             "linecolor": "white",
             "minorgridcolor": "white",
             "startlinecolor": "#2a3f5f"
            },
            "type": "carpet"
           }
          ],
          "choropleth": [
           {
            "colorbar": {
             "outlinewidth": 0,
             "ticks": ""
            },
            "type": "choropleth"
           }
          ],
          "contour": [
           {
            "colorbar": {
             "outlinewidth": 0,
             "ticks": ""
            },
            "colorscale": [
             [
              0,
              "#0d0887"
             ],
             [
              0.1111111111111111,
              "#46039f"
             ],
             [
              0.2222222222222222,
              "#7201a8"
             ],
             [
              0.3333333333333333,
              "#9c179e"
             ],
             [
              0.4444444444444444,
              "#bd3786"
             ],
             [
              0.5555555555555556,
              "#d8576b"
             ],
             [
              0.6666666666666666,
              "#ed7953"
             ],
             [
              0.7777777777777778,
              "#fb9f3a"
             ],
             [
              0.8888888888888888,
              "#fdca26"
             ],
             [
              1,
              "#f0f921"
             ]
            ],
            "type": "contour"
           }
          ],
          "contourcarpet": [
           {
            "colorbar": {
             "outlinewidth": 0,
             "ticks": ""
            },
            "type": "contourcarpet"
           }
          ],
          "heatmap": [
           {
            "colorbar": {
             "outlinewidth": 0,
             "ticks": ""
            },
            "colorscale": [
             [
              0,
              "#0d0887"
             ],
             [
              0.1111111111111111,
              "#46039f"
             ],
             [
              0.2222222222222222,
              "#7201a8"
             ],
             [
              0.3333333333333333,
              "#9c179e"
             ],
             [
              0.4444444444444444,
              "#bd3786"
             ],
             [
              0.5555555555555556,
              "#d8576b"
             ],
             [
              0.6666666666666666,
              "#ed7953"
             ],
             [
              0.7777777777777778,
              "#fb9f3a"
             ],
             [
              0.8888888888888888,
              "#fdca26"
             ],
             [
              1,
              "#f0f921"
             ]
            ],
            "type": "heatmap"
           }
          ],
          "heatmapgl": [
           {
            "colorbar": {
             "outlinewidth": 0,
             "ticks": ""
            },
            "colorscale": [
             [
              0,
              "#0d0887"
             ],
             [
              0.1111111111111111,
              "#46039f"
             ],
             [
              0.2222222222222222,
              "#7201a8"
             ],
             [
              0.3333333333333333,
              "#9c179e"
             ],
             [
              0.4444444444444444,
              "#bd3786"
             ],
             [
              0.5555555555555556,
              "#d8576b"
             ],
             [
              0.6666666666666666,
              "#ed7953"
             ],
             [
              0.7777777777777778,
              "#fb9f3a"
             ],
             [
              0.8888888888888888,
              "#fdca26"
             ],
             [
              1,
              "#f0f921"
             ]
            ],
            "type": "heatmapgl"
           }
          ],
          "histogram": [
           {
            "marker": {
             "pattern": {
              "fillmode": "overlay",
              "size": 10,
              "solidity": 0.2
             }
            },
            "type": "histogram"
           }
          ],
          "histogram2d": [
           {
            "colorbar": {
             "outlinewidth": 0,
             "ticks": ""
            },
            "colorscale": [
             [
              0,
              "#0d0887"
             ],
             [
              0.1111111111111111,
              "#46039f"
             ],
             [
              0.2222222222222222,
              "#7201a8"
             ],
             [
              0.3333333333333333,
              "#9c179e"
             ],
             [
              0.4444444444444444,
              "#bd3786"
             ],
             [
              0.5555555555555556,
              "#d8576b"
             ],
             [
              0.6666666666666666,
              "#ed7953"
             ],
             [
              0.7777777777777778,
              "#fb9f3a"
             ],
             [
              0.8888888888888888,
              "#fdca26"
             ],
             [
              1,
              "#f0f921"
             ]
            ],
            "type": "histogram2d"
           }
          ],
          "histogram2dcontour": [
           {
            "colorbar": {
             "outlinewidth": 0,
             "ticks": ""
            },
            "colorscale": [
             [
              0,
              "#0d0887"
             ],
             [
              0.1111111111111111,
              "#46039f"
             ],
             [
              0.2222222222222222,
              "#7201a8"
             ],
             [
              0.3333333333333333,
              "#9c179e"
             ],
             [
              0.4444444444444444,
              "#bd3786"
             ],
             [
              0.5555555555555556,
              "#d8576b"
             ],
             [
              0.6666666666666666,
              "#ed7953"
             ],
             [
              0.7777777777777778,
              "#fb9f3a"
             ],
             [
              0.8888888888888888,
              "#fdca26"
             ],
             [
              1,
              "#f0f921"
             ]
            ],
            "type": "histogram2dcontour"
           }
          ],
          "mesh3d": [
           {
            "colorbar": {
             "outlinewidth": 0,
             "ticks": ""
            },
            "type": "mesh3d"
           }
          ],
          "parcoords": [
           {
            "line": {
             "colorbar": {
              "outlinewidth": 0,
              "ticks": ""
             }
            },
            "type": "parcoords"
           }
          ],
          "pie": [
           {
            "automargin": true,
            "type": "pie"
           }
          ],
          "scatter": [
           {
            "fillpattern": {
             "fillmode": "overlay",
             "size": 10,
             "solidity": 0.2
            },
            "type": "scatter"
           }
          ],
          "scatter3d": [
           {
            "line": {
             "colorbar": {
              "outlinewidth": 0,
              "ticks": ""
             }
            },
            "marker": {
             "colorbar": {
              "outlinewidth": 0,
              "ticks": ""
             }
            },
            "type": "scatter3d"
           }
          ],
          "scattercarpet": [
           {
            "marker": {
             "colorbar": {
              "outlinewidth": 0,
              "ticks": ""
             }
            },
            "type": "scattercarpet"
           }
          ],
          "scattergeo": [
           {
            "marker": {
             "colorbar": {
              "outlinewidth": 0,
              "ticks": ""
             }
            },
            "type": "scattergeo"
           }
          ],
          "scattergl": [
           {
            "marker": {
             "colorbar": {
              "outlinewidth": 0,
              "ticks": ""
             }
            },
            "type": "scattergl"
           }
          ],
          "scattermapbox": [
           {
            "marker": {
             "colorbar": {
              "outlinewidth": 0,
              "ticks": ""
             }
            },
            "type": "scattermapbox"
           }
          ],
          "scatterpolar": [
           {
            "marker": {
             "colorbar": {
              "outlinewidth": 0,
              "ticks": ""
             }
            },
            "type": "scatterpolar"
           }
          ],
          "scatterpolargl": [
           {
            "marker": {
             "colorbar": {
              "outlinewidth": 0,
              "ticks": ""
             }
            },
            "type": "scatterpolargl"
           }
          ],
          "scatterternary": [
           {
            "marker": {
             "colorbar": {
              "outlinewidth": 0,
              "ticks": ""
             }
            },
            "type": "scatterternary"
           }
          ],
          "surface": [
           {
            "colorbar": {
             "outlinewidth": 0,
             "ticks": ""
            },
            "colorscale": [
             [
              0,
              "#0d0887"
             ],
             [
              0.1111111111111111,
              "#46039f"
             ],
             [
              0.2222222222222222,
              "#7201a8"
             ],
             [
              0.3333333333333333,
              "#9c179e"
             ],
             [
              0.4444444444444444,
              "#bd3786"
             ],
             [
              0.5555555555555556,
              "#d8576b"
             ],
             [
              0.6666666666666666,
              "#ed7953"
             ],
             [
              0.7777777777777778,
              "#fb9f3a"
             ],
             [
              0.8888888888888888,
              "#fdca26"
             ],
             [
              1,
              "#f0f921"
             ]
            ],
            "type": "surface"
           }
          ],
          "table": [
           {
            "cells": {
             "fill": {
              "color": "#EBF0F8"
             },
             "line": {
              "color": "white"
             }
            },
            "header": {
             "fill": {
              "color": "#C8D4E3"
             },
             "line": {
              "color": "white"
             }
            },
            "type": "table"
           }
          ]
         },
         "layout": {
          "annotationdefaults": {
           "arrowcolor": "#2a3f5f",
           "arrowhead": 0,
           "arrowwidth": 1
          },
          "autotypenumbers": "strict",
          "coloraxis": {
           "colorbar": {
            "outlinewidth": 0,
            "ticks": ""
           }
          },
          "colorscale": {
           "diverging": [
            [
             0,
             "#8e0152"
            ],
            [
             0.1,
             "#c51b7d"
            ],
            [
             0.2,
             "#de77ae"
            ],
            [
             0.3,
             "#f1b6da"
            ],
            [
             0.4,
             "#fde0ef"
            ],
            [
             0.5,
             "#f7f7f7"
            ],
            [
             0.6,
             "#e6f5d0"
            ],
            [
             0.7,
             "#b8e186"
            ],
            [
             0.8,
             "#7fbc41"
            ],
            [
             0.9,
             "#4d9221"
            ],
            [
             1,
             "#276419"
            ]
           ],
           "sequential": [
            [
             0,
             "#0d0887"
            ],
            [
             0.1111111111111111,
             "#46039f"
            ],
            [
             0.2222222222222222,
             "#7201a8"
            ],
            [
             0.3333333333333333,
             "#9c179e"
            ],
            [
             0.4444444444444444,
             "#bd3786"
            ],
            [
             0.5555555555555556,
             "#d8576b"
            ],
            [
             0.6666666666666666,
             "#ed7953"
            ],
            [
             0.7777777777777778,
             "#fb9f3a"
            ],
            [
             0.8888888888888888,
             "#fdca26"
            ],
            [
             1,
             "#f0f921"
            ]
           ],
           "sequentialminus": [
            [
             0,
             "#0d0887"
            ],
            [
             0.1111111111111111,
             "#46039f"
            ],
            [
             0.2222222222222222,
             "#7201a8"
            ],
            [
             0.3333333333333333,
             "#9c179e"
            ],
            [
             0.4444444444444444,
             "#bd3786"
            ],
            [
             0.5555555555555556,
             "#d8576b"
            ],
            [
             0.6666666666666666,
             "#ed7953"
            ],
            [
             0.7777777777777778,
             "#fb9f3a"
            ],
            [
             0.8888888888888888,
             "#fdca26"
            ],
            [
             1,
             "#f0f921"
            ]
           ]
          },
          "colorway": [
           "#636efa",
           "#EF553B",
           "#00cc96",
           "#ab63fa",
           "#FFA15A",
           "#19d3f3",
           "#FF6692",
           "#B6E880",
           "#FF97FF",
           "#FECB52"
          ],
          "font": {
           "color": "#2a3f5f"
          },
          "geo": {
           "bgcolor": "white",
           "lakecolor": "white",
           "landcolor": "#E5ECF6",
           "showlakes": true,
           "showland": true,
           "subunitcolor": "white"
          },
          "hoverlabel": {
           "align": "left"
          },
          "hovermode": "closest",
          "mapbox": {
           "style": "light"
          },
          "paper_bgcolor": "white",
          "plot_bgcolor": "#E5ECF6",
          "polar": {
           "angularaxis": {
            "gridcolor": "white",
            "linecolor": "white",
            "ticks": ""
           },
           "bgcolor": "#E5ECF6",
           "radialaxis": {
            "gridcolor": "white",
            "linecolor": "white",
            "ticks": ""
           }
          },
          "scene": {
           "xaxis": {
            "backgroundcolor": "#E5ECF6",
            "gridcolor": "white",
            "gridwidth": 2,
            "linecolor": "white",
            "showbackground": true,
            "ticks": "",
            "zerolinecolor": "white"
           },
           "yaxis": {
            "backgroundcolor": "#E5ECF6",
            "gridcolor": "white",
            "gridwidth": 2,
            "linecolor": "white",
            "showbackground": true,
            "ticks": "",
            "zerolinecolor": "white"
           },
           "zaxis": {
            "backgroundcolor": "#E5ECF6",
            "gridcolor": "white",
            "gridwidth": 2,
            "linecolor": "white",
            "showbackground": true,
            "ticks": "",
            "zerolinecolor": "white"
           }
          },
          "shapedefaults": {
           "line": {
            "color": "#2a3f5f"
           }
          },
          "ternary": {
           "aaxis": {
            "gridcolor": "white",
            "linecolor": "white",
            "ticks": ""
           },
           "baxis": {
            "gridcolor": "white",
            "linecolor": "white",
            "ticks": ""
           },
           "bgcolor": "#E5ECF6",
           "caxis": {
            "gridcolor": "white",
            "linecolor": "white",
            "ticks": ""
           }
          },
          "title": {
           "x": 0.05
          },
          "xaxis": {
           "automargin": true,
           "gridcolor": "white",
           "linecolor": "white",
           "ticks": "",
           "title": {
            "standoff": 15
           },
           "zerolinecolor": "white",
           "zerolinewidth": 2
          },
          "yaxis": {
           "automargin": true,
           "gridcolor": "white",
           "linecolor": "white",
           "ticks": "",
           "title": {
            "standoff": 15
           },
           "zerolinecolor": "white",
           "zerolinewidth": 2
          }
         }
        },
        "title": {
         "text": "Parallel Coordinate Plot"
        }
       }
      }
     },
     "metadata": {},
     "output_type": "display_data"
    }
   ],
   "source": [
    "plot_parallel_coordinate(clf.study_)"
   ]
  },
  {
   "cell_type": "code",
   "execution_count": 24,
   "metadata": {},
   "outputs": [
    {
     "data": {
      "text/html": [
       "<div>\n",
       "<style scoped>\n",
       "    .dataframe tbody tr th:only-of-type {\n",
       "        vertical-align: middle;\n",
       "    }\n",
       "\n",
       "    .dataframe tbody tr th {\n",
       "        vertical-align: top;\n",
       "    }\n",
       "\n",
       "    .dataframe thead th {\n",
       "        text-align: right;\n",
       "    }\n",
       "</style>\n",
       "<table border=\"1\" class=\"dataframe\">\n",
       "  <thead>\n",
       "    <tr style=\"text-align: right;\">\n",
       "      <th></th>\n",
       "      <th></th>\n",
       "      <th>Precision</th>\n",
       "      <th>Recall</th>\n",
       "      <th>F-1 Score</th>\n",
       "      <th>Support</th>\n",
       "    </tr>\n",
       "    <tr>\n",
       "      <th>Label</th>\n",
       "      <th>Value</th>\n",
       "      <th></th>\n",
       "      <th></th>\n",
       "      <th></th>\n",
       "      <th></th>\n",
       "    </tr>\n",
       "  </thead>\n",
       "  <tbody>\n",
       "    <tr>\n",
       "      <th rowspan=\"2\" valign=\"top\">related</th>\n",
       "      <th>0</th>\n",
       "      <td>0.391304</td>\n",
       "      <td>0.007438</td>\n",
       "      <td>0.014599</td>\n",
       "      <td>1210</td>\n",
       "    </tr>\n",
       "    <tr>\n",
       "      <th>1</th>\n",
       "      <td>0.768370</td>\n",
       "      <td>0.996498</td>\n",
       "      <td>0.867690</td>\n",
       "      <td>3998</td>\n",
       "    </tr>\n",
       "    <tr>\n",
       "      <th rowspan=\"2\" valign=\"top\">request</th>\n",
       "      <th>0</th>\n",
       "      <td>0.833787</td>\n",
       "      <td>0.992126</td>\n",
       "      <td>0.906091</td>\n",
       "      <td>4318</td>\n",
       "    </tr>\n",
       "    <tr>\n",
       "      <th>1</th>\n",
       "      <td>0.514286</td>\n",
       "      <td>0.040449</td>\n",
       "      <td>0.075000</td>\n",
       "      <td>890</td>\n",
       "    </tr>\n",
       "    <tr>\n",
       "      <th>offer</th>\n",
       "      <th>0</th>\n",
       "      <td>0.995008</td>\n",
       "      <td>1.000000</td>\n",
       "      <td>0.997498</td>\n",
       "      <td>5182</td>\n",
       "    </tr>\n",
       "    <tr>\n",
       "      <th>...</th>\n",
       "      <th>...</th>\n",
       "      <td>...</td>\n",
       "      <td>...</td>\n",
       "      <td>...</td>\n",
       "      <td>...</td>\n",
       "    </tr>\n",
       "    <tr>\n",
       "      <th rowspan=\"2\" valign=\"top\">direct_report</th>\n",
       "      <th>0</th>\n",
       "      <td>0.813737</td>\n",
       "      <td>0.993603</td>\n",
       "      <td>0.894720</td>\n",
       "      <td>4221</td>\n",
       "    </tr>\n",
       "    <tr>\n",
       "      <th>1</th>\n",
       "      <td>0.500000</td>\n",
       "      <td>0.027356</td>\n",
       "      <td>0.051873</td>\n",
       "      <td>987</td>\n",
       "    </tr>\n",
       "    <tr>\n",
       "      <th rowspan=\"3\" valign=\"top\">Average</th>\n",
       "      <th>micro</th>\n",
       "      <td>0.743292</td>\n",
       "      <td>0.274110</td>\n",
       "      <td>0.400518</td>\n",
       "      <td>-</td>\n",
       "    </tr>\n",
       "    <tr>\n",
       "      <th>macro</th>\n",
       "      <td>0.149056</td>\n",
       "      <td>0.043701</td>\n",
       "      <td>0.050509</td>\n",
       "      <td>-</td>\n",
       "    </tr>\n",
       "    <tr>\n",
       "      <th>weighted</th>\n",
       "      <td>0.407979</td>\n",
       "      <td>0.274110</td>\n",
       "      <td>0.264341</td>\n",
       "      <td>-</td>\n",
       "    </tr>\n",
       "  </tbody>\n",
       "</table>\n",
       "<p>73 rows × 4 columns</p>\n",
       "</div>"
      ],
      "text/plain": [
       "                        Precision    Recall  F-1 Score Support\n",
       "Label         Value                                           \n",
       "related       0          0.391304  0.007438   0.014599    1210\n",
       "              1          0.768370  0.996498   0.867690    3998\n",
       "request       0          0.833787  0.992126   0.906091    4318\n",
       "              1          0.514286  0.040449   0.075000     890\n",
       "offer         0          0.995008  1.000000   0.997498    5182\n",
       "...                           ...       ...        ...     ...\n",
       "direct_report 0          0.813737  0.993603   0.894720    4221\n",
       "              1          0.500000  0.027356   0.051873     987\n",
       "Average       micro      0.743292  0.274110   0.400518       -\n",
       "              macro      0.149056  0.043701   0.050509       -\n",
       "              weighted   0.407979  0.274110   0.264341       -\n",
       "\n",
       "[73 rows x 4 columns]"
      ]
     },
     "execution_count": 24,
     "metadata": {},
     "output_type": "execute_result"
    }
   ],
   "source": [
    "\n",
    "y_hat = clf.predict(X_test)\n",
    "\n",
    "report_f1_score_precision_recall(y_test, y_hat)"
   ]
  },
  {
   "cell_type": "markdown",
   "metadata": {},
   "source": [
    "### 9. Export your model as a pickle file"
   ]
  },
  {
   "cell_type": "code",
   "execution_count": 32,
   "metadata": {},
   "outputs": [],
   "source": [
    "\n",
    "with open('../models/classifier.pkl', 'wb') as file:\n",
    "    pickle.dump(clf, file)\n"
   ]
  },
  {
   "cell_type": "markdown",
   "metadata": {},
   "source": [
    "### 10. Use this notebook to complete `train.py`\n",
    "Use the template file attached in the Resources folder to write a script that runs the steps above to create a database and export a model based on a new dataset specified by the user."
   ]
  }
 ],
 "metadata": {
  "kernelspec": {
   "display_name": "Python 3.8.13 ('AI')",
   "language": "python",
   "name": "python3"
  },
  "language_info": {
   "codemirror_mode": {
    "name": "ipython",
    "version": 3
   },
   "file_extension": ".py",
   "mimetype": "text/x-python",
   "name": "python",
   "nbconvert_exporter": "python",
   "pygments_lexer": "ipython3",
   "version": "3.8.13"
  },
  "vscode": {
   "interpreter": {
    "hash": "13008fb54f54b20c64f239663f590b7fe60267bd3112a5e2fc7ad529af63201d"
   }
  }
 },
 "nbformat": 4,
 "nbformat_minor": 4
}
